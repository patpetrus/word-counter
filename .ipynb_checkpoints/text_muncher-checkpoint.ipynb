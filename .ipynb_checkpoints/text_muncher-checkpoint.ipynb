{
 "cells": [
  {
   "cell_type": "code",
   "execution_count": 2,
   "metadata": {},
   "outputs": [
    {
     "name": "stdout",
     "output_type": "stream",
     "text": [
      "Collecting nltk\n",
      "  Downloading nltk-3.6.2-py3-none-any.whl (1.5 MB)\n",
      "Requirement already satisfied: click in c:\\users\\patpe\\anaconda3\\envs\\pythondata\\lib\\site-packages (from nltk) (7.1.2)\n",
      "Collecting tqdm\n",
      "  Downloading tqdm-4.60.0-py2.py3-none-any.whl (75 kB)\n",
      "Requirement already satisfied: joblib in c:\\users\\patpe\\anaconda3\\envs\\pythondata\\lib\\site-packages (from nltk) (1.0.0)\n",
      "Collecting regex\n",
      "  Downloading regex-2021.4.4-cp36-cp36m-win_amd64.whl (269 kB)\n",
      "Installing collected packages: tqdm, regex, nltk\n",
      "Successfully installed nltk-3.6.2 regex-2021.4.4 tqdm-4.60.0\n"
     ]
    }
   ],
   "source": [
    "!pip install nltk"
   ]
  },
  {
   "cell_type": "code",
   "execution_count": 66,
   "metadata": {
    "scrolled": true
   },
   "outputs": [
    {
     "name": "stderr",
     "output_type": "stream",
     "text": [
      "[nltk_data] Downloading package stopwords to\n",
      "[nltk_data]     C:\\Users\\patpe\\AppData\\Roaming\\nltk_data...\n",
      "[nltk_data]   Package stopwords is already up-to-date!\n",
      "[nltk_data] Downloading package punkt to\n",
      "[nltk_data]     C:\\Users\\patpe\\AppData\\Roaming\\nltk_data...\n",
      "[nltk_data]   Package punkt is already up-to-date!\n"
     ]
    },
    {
     "data": {
      "text/plain": [
       "True"
      ]
     },
     "execution_count": 66,
     "metadata": {},
     "output_type": "execute_result"
    }
   ],
   "source": [
    "# import dependencies \n",
    "import nltk\n",
    "from nltk.corpus import stopwords\n",
    "from nltk.tokenize import word_tokenize \n",
    "import pandas as pd\n",
    "nltk.download('stopwords')\n",
    "nltk.download('punkt')\n"
   ]
  },
  {
   "cell_type": "code",
   "execution_count": 67,
   "metadata": {
    "scrolled": true
   },
   "outputs": [
    {
     "name": "stdout",
     "output_type": "stream",
     "text": [
      "['ï', '»', '¿Light', 'Rain', 'by', 'Pat', 'Petrus', '________________', 'The', 'deserts', 'of', 'the', 'American', 'Southwest', 'were', 'due', 'for', 'rain', '.', 'The', 'men', 'who', 'controlled', 'the', 'weather', 'loved', 'this', 'day', ',', 'for', 'all', 'the', 'back-slapping', 'and', 'laughing', 'and', 'bonuses', 'it', 'got', 'them', '.', 'Few', 'of', 'them', 'grasped', 'the', 'significance', 'of', 'their', 'place', 'in', 'culture', '.', 'They', 'were', 'engineers', 'living', 'hundreds', 'of', 'miles', 'away', ',', 'in', 'quiet', 'suburbs', 'valued', 'in', 'the', 'low', 'half-millions', '.', 'They', 'had', 'families', 'needing', 'feeding', ',', 'paychecks', 'needing', 'getting', ',', 'corporate', 'ladders', 'needing', 'climbing', '.', 'Their', 'lives', 'boiled', 'down', 'to', 'computers', ',', 'not', 'culture', '.', 'But', 'at', 'the', 'behest', 'of', 'the', 'government', ',', 'each', 'year', 'in', 'the', 'early', 'morning', 'hours', 'of', 'the', 'spring', 'solstice', 'they', 'arrived', 'at', 'their', 'modest', 'office', 'in', 'the', 'Center', 'for', 'Weather', 'Control', 'in', 'Seattle', 'and', 'turned', 'the', 'eyes', 'of', 'their', 'laser', 'arrays', 'towards', 'the', 'skies', 'of', 'Arizona', ',', 'New', 'Mexico', ',', 'Nevada', ',', 'Texas', ',', 'and', 'Oklahoma', '.', 'Numbers', 'were', 'crunched', ',', 'proofs', 'were', 'proofed', 'and', 're-preoofed', '.', 'Coffee', 'was', 'brewed', '.', 'A', 'few', 'pictures', 'were', 'snapped', '.', 'The', 'office', 'building', 'tuned', 'in', 'its', 'collective', 'attention', 'towards', 'a', 'singular', 'point', ',', 'like', 'an', 'orchestra', 'waiting', 'for', 'a', 'downbeat', '.', 'Outside', 'the', 'weather', 'office', ',', 'dew', 'dripped', 'off', 'the', 'ten-block', 'array', 'of', 'lasers', '.', 'Each', 'laser', 'consisted', 'of', 'a', 'two-story', 'tall', 'piece', 'of', 'metal', 'shaped', 'like', 'a', 'thin', 'cross', 'and', 'mounted', 'on', 'a', 'rotating', 'gimbal', '.', 'A', 'latticework', 'of', 'hanging', 'wires', 'connected', 'one', 'laser', 'to', 'another', ',', 'into', 'cells', 'of', 'one', 'hundred', 'lasers', 'each', '.', 'There', 'were', 'ten', 'cells', 'at', 'this', 'particular', 'office', '.', 'On', 'cue', 'from', 'the', 'office', ',', 'they', 'rose', 'to', 'life', 'and', 'turned', 'as', 'one', 'towards', 'the', 'distant', 'southern', 'horizon', '.', 'A', 'hum', 'filled', 'the', 'air', ',', 'rising', 'like', 'the', 'swell', 'of', 'an', 'orchestra', '.', 'In', 'a', 'small', 'town', 'in', 'rural', 'Arizona', ',', 'dust', 'swirled', 'around', 'a', 'town', 'square', '.', 'Some', 'two', 'hundred', 'people', 'gathered', 'in', 'celebration', ',', 'bringing', 'gifts', 'of', 'food', 'for', 'a', 'town', 'potluck', '.', 'They', 'were', 'all', 'gathered', 'around', 'the', 'squareâ€™s', 'central', 'monument', ',', 'a', 'two-story', 'tall', 'piece', 'of', 'polished', 'stone', 'shaped', 'like', 'a', 'thin', 'cross', 'set', 'in', 'a', 'reflecting', 'pool', '.', 'On', 'any', 'normal', 'day', ',', 'the', 'pool', 'would', 'be', 'full', 'of', 'water', '.', 'But', 'the', 'townâ€™s', 'mayor', 'had', 'ceremonially', 'drained', 'it', 'the', 'night', 'before', '.', 'As', 'the', 'hour', 'drew', 'near', ',', 'volunteers', 'packed', 'away', 'the', 'potluck', 'and', 'distributed', 'ponchos', 'to', 'the', 'elderly', 'folks', 'who', 'didnâ€™t', 'want', 'to', 'get', 'wet', '.', 'Most', 'politely', 'turned', 'the', 'ponchos', 'away', '.', 'The', 'minutes', 'ticked', 'down', ',', 'and', 'the', 'square', 'grew', 'quiet', ',', 'until', 'only', 'the', 'wind', 'and', 'dust', 'made', 'any', 'sound', '.', 'The', 'town', 'tuned', 'in', 'its', 'collective', 'attention', 'to', 'watch', 'the', 'horizon', '.', 'A', 'deep', 'hum', 'filled', 'the', 'air', ',', 'rising', 'like', 'the', 'swell', 'of', 'an', 'orchestra', '.', 'First', 'came', 'the', 'clouds', ',', 'dark', 'and', 'wild', 'as', 'a', 'dream', '.', 'And', 'then', 'an', 'endless', 'cascade', 'of', 'rain', 'fell', ',', 'sweeping', 'from', 'one', 'side', 'of', 'the', 'square', 'to', 'another', '.', 'Light', 'rain', '.', 'The', 'words', 'passed', 'among', 'the', 'crowd', 'between', 'cries', 'of', 'elation', '.', 'Light', 'rain', '.', 'Cleansing', 'the', 'air', 'of', 'dust', ',', 'turning', 'the', 'paved', 'streets', 'into', 'rivers', '.', 'The', 'ponchos', 'pointless', 'to', 'stop', 'the', 'kiss', 'of', 'nature', '.', 'Children', 'dancing', 'in', 'puddles', ',', 'stomping', 'and', 'splashing', 'and', 'shrieking', 'with', 'joy', '.', 'Light', 'rain', '.', 'The', 'empty', 'reflecting', 'pool', 'filled', 'up', 'and', 'spilled', 'over', '.', 'Humanity', 'for', 'a', 'brief', 'moment', 'placed', 'its', 'mark', 'upon', 'the', 'land', '.']\n"
     ]
    }
   ],
   "source": [
    "# Open a file and read it into memory\n",
    "# CAN BE ANY OL' FILE YOU WANT ;)\n",
    "file = open('light_rain.txt')\n",
    "text = file.read()\n",
    "\n",
    "text_tokens = word_tokenize(text)\n",
    "\n",
    "print(text_tokens)\n"
   ]
  },
  {
   "cell_type": "code",
   "execution_count": 68,
   "metadata": {},
   "outputs": [
    {
     "name": "stdout",
     "output_type": "stream",
     "text": [
      "['ï', '»', '¿Light', 'Rain', 'Pat', 'Petrus', '________________', 'The', 'deserts', 'American', 'Southwest', 'due', 'rain', '.', 'The', 'men', 'controlled', 'weather', 'loved', 'day', ',', 'back-slapping', 'laughing', 'bonuses', 'got', '.', 'Few', 'grasped', 'significance', 'place', 'culture', '.', 'They', 'engineers', 'living', 'hundreds', 'miles', 'away', ',', 'quiet', 'suburbs', 'valued', 'low', 'half-millions', '.', 'They', 'families', 'needing', 'feeding', ',', 'paychecks', 'needing', 'getting', ',', 'corporate', 'ladders', 'needing', 'climbing', '.', 'Their', 'lives', 'boiled', 'computers', ',', 'culture', '.', 'But', 'behest', 'government', ',', 'year', 'early', 'morning', 'hours', 'spring', 'solstice', 'arrived', 'modest', 'office', 'Center', 'Weather', 'Control', 'Seattle', 'turned', 'eyes', 'laser', 'arrays', 'towards', 'skies', 'Arizona', ',', 'New', 'Mexico', ',', 'Nevada', ',', 'Texas', ',', 'Oklahoma', '.', 'Numbers', 'crunched', ',', 'proofs', 'proofed', 're-preoofed', '.', 'Coffee', 'brewed', '.', 'A', 'pictures', 'snapped', '.', 'The', 'office', 'building', 'tuned', 'collective', 'attention', 'towards', 'singular', 'point', ',', 'like', 'orchestra', 'waiting', 'downbeat', '.', 'Outside', 'weather', 'office', ',', 'dew', 'dripped', 'ten-block', 'array', 'lasers', '.', 'Each', 'laser', 'consisted', 'two-story', 'tall', 'piece', 'metal', 'shaped', 'like', 'thin', 'cross', 'mounted', 'rotating', 'gimbal', '.', 'A', 'latticework', 'hanging', 'wires', 'connected', 'one', 'laser', 'another', ',', 'cells', 'one', 'hundred', 'lasers', '.', 'There', 'ten', 'cells', 'particular', 'office', '.', 'On', 'cue', 'office', ',', 'rose', 'life', 'turned', 'one', 'towards', 'distant', 'southern', 'horizon', '.', 'A', 'hum', 'filled', 'air', ',', 'rising', 'like', 'swell', 'orchestra', '.', 'In', 'small', 'town', 'rural', 'Arizona', ',', 'dust', 'swirled', 'around', 'town', 'square', '.', 'Some', 'two', 'hundred', 'people', 'gathered', 'celebration', ',', 'bringing', 'gifts', 'food', 'town', 'potluck', '.', 'They', 'gathered', 'around', 'squareâ€™s', 'central', 'monument', ',', 'two-story', 'tall', 'piece', 'polished', 'stone', 'shaped', 'like', 'thin', 'cross', 'set', 'reflecting', 'pool', '.', 'On', 'normal', 'day', ',', 'pool', 'would', 'full', 'water', '.', 'But', 'townâ€™s', 'mayor', 'ceremonially', 'drained', 'night', '.', 'As', 'hour', 'drew', 'near', ',', 'volunteers', 'packed', 'away', 'potluck', 'distributed', 'ponchos', 'elderly', 'folks', 'didnâ€™t', 'want', 'get', 'wet', '.', 'Most', 'politely', 'turned', 'ponchos', 'away', '.', 'The', 'minutes', 'ticked', ',', 'square', 'grew', 'quiet', ',', 'wind', 'dust', 'made', 'sound', '.', 'The', 'town', 'tuned', 'collective', 'attention', 'watch', 'horizon', '.', 'A', 'deep', 'hum', 'filled', 'air', ',', 'rising', 'like', 'swell', 'orchestra', '.', 'First', 'came', 'clouds', ',', 'dark', 'wild', 'dream', '.', 'And', 'endless', 'cascade', 'rain', 'fell', ',', 'sweeping', 'one', 'side', 'square', 'another', '.', 'Light', 'rain', '.', 'The', 'words', 'passed', 'among', 'crowd', 'cries', 'elation', '.', 'Light', 'rain', '.', 'Cleansing', 'air', 'dust', ',', 'turning', 'paved', 'streets', 'rivers', '.', 'The', 'ponchos', 'pointless', 'stop', 'kiss', 'nature', '.', 'Children', 'dancing', 'puddles', ',', 'stomping', 'splashing', 'shrieking', 'joy', '.', 'Light', 'rain', '.', 'The', 'empty', 'reflecting', 'pool', 'filled', 'spilled', '.', 'Humanity', 'brief', 'moment', 'placed', 'mark', 'upon', 'land', '.']\n"
     ]
    }
   ],
   "source": [
    "#remove stopwords from text\n",
    "\n",
    "tokens_without_sw = [word for word in text_tokens if word not in stopwords.words('english')]\n",
    "\n",
    "print(tokens_without_sw)"
   ]
  },
  {
   "cell_type": "code",
   "execution_count": 79,
   "metadata": {},
   "outputs": [
    {
     "data": {
      "text/plain": [
       "566"
      ]
     },
     "execution_count": 79,
     "metadata": {},
     "output_type": "execute_result"
    }
   ],
   "source": [
    "tk1 = len(text_tokens)\n",
    "tk1"
   ]
  },
  {
   "cell_type": "code",
   "execution_count": 80,
   "metadata": {},
   "outputs": [
    {
     "data": {
      "text/plain": [
       "391"
      ]
     },
     "execution_count": 80,
     "metadata": {},
     "output_type": "execute_result"
    }
   ],
   "source": [
    "tk2 = len(tokens_without_sw)\n",
    "tk2"
   ]
  },
  {
   "cell_type": "code",
   "execution_count": 81,
   "metadata": {},
   "outputs": [],
   "source": [
    "##########################\n",
    "\n",
    "##########################"
   ]
  },
  {
   "cell_type": "code",
   "execution_count": 91,
   "metadata": {},
   "outputs": [
    {
     "name": "stdout",
     "output_type": "stream",
     "text": [
      "List of text_tokens\n",
      "['ï', '»', '¿Light', 'Rain', 'by', 'Pat', 'Petrus', '________________', 'The', 'deserts', 'of', 'the', 'American', 'Southwest', 'were', 'due', 'for', 'rain', '.', 'The', 'men', 'who', 'controlled', 'the', 'weather', 'loved', 'this', 'day', ',', 'for', 'all', 'the', 'back-slapping', 'and', 'laughing', 'and', 'bonuses', 'it', 'got', 'them', '.', 'Few', 'of', 'them', 'grasped', 'the', 'significance', 'of', 'their', 'place', 'in', 'culture', '.', 'They', 'were', 'engineers', 'living', 'hundreds', 'of', 'miles', 'away', ',', 'in', 'quiet', 'suburbs', 'valued', 'in', 'the', 'low', 'half-millions', '.', 'They', 'had', 'families', 'needing', 'feeding', ',', 'paychecks', 'needing', 'getting', ',', 'corporate', 'ladders', 'needing', 'climbing', '.', 'Their', 'lives', 'boiled', 'down', 'to', 'computers', ',', 'not', 'culture', '.', 'But', 'at', 'the', 'behest', 'of', 'the', 'government', ',', 'each', 'year', 'in', 'the', 'early', 'morning', 'hours', 'of', 'the', 'spring', 'solstice', 'they', 'arrived', 'at', 'their', 'modest', 'office', 'in', 'the', 'Center', 'for', 'Weather', 'Control', 'in', 'Seattle', 'and', 'turned', 'the', 'eyes', 'of', 'their', 'laser', 'arrays', 'towards', 'the', 'skies', 'of', 'Arizona', ',', 'New', 'Mexico', ',', 'Nevada', ',', 'Texas', ',', 'and', 'Oklahoma', '.', 'Numbers', 'were', 'crunched', ',', 'proofs', 'were', 'proofed', 'and', 're-preoofed', '.', 'Coffee', 'was', 'brewed', '.', 'A', 'few', 'pictures', 'were', 'snapped', '.', 'The', 'office', 'building', 'tuned', 'in', 'its', 'collective', 'attention', 'towards', 'a', 'singular', 'point', ',', 'like', 'an', 'orchestra', 'waiting', 'for', 'a', 'downbeat', '.', 'Outside', 'the', 'weather', 'office', ',', 'dew', 'dripped', 'off', 'the', 'ten-block', 'array', 'of', 'lasers', '.', 'Each', 'laser', 'consisted', 'of', 'a', 'two-story', 'tall', 'piece', 'of', 'metal', 'shaped', 'like', 'a', 'thin', 'cross', 'and', 'mounted', 'on', 'a', 'rotating', 'gimbal', '.', 'A', 'latticework', 'of', 'hanging', 'wires', 'connected', 'one', 'laser', 'to', 'another', ',', 'into', 'cells', 'of', 'one', 'hundred', 'lasers', 'each', '.', 'There', 'were', 'ten', 'cells', 'at', 'this', 'particular', 'office', '.', 'On', 'cue', 'from', 'the', 'office', ',', 'they', 'rose', 'to', 'life', 'and', 'turned', 'as', 'one', 'towards', 'the', 'distant', 'southern', 'horizon', '.', 'A', 'hum', 'filled', 'the', 'air', ',', 'rising', 'like', 'the', 'swell', 'of', 'an', 'orchestra', '.', 'In', 'a', 'small', 'town', 'in', 'rural', 'Arizona', ',', 'dust', 'swirled', 'around', 'a', 'town', 'square', '.', 'Some', 'two', 'hundred', 'people', 'gathered', 'in', 'celebration', ',', 'bringing', 'gifts', 'of', 'food', 'for', 'a', 'town', 'potluck', '.', 'They', 'were', 'all', 'gathered', 'around', 'the', 'squareâ€™s', 'central', 'monument', ',', 'a', 'two-story', 'tall', 'piece', 'of', 'polished', 'stone', 'shaped', 'like', 'a', 'thin', 'cross', 'set', 'in', 'a', 'reflecting', 'pool', '.', 'On', 'any', 'normal', 'day', ',', 'the', 'pool', 'would', 'be', 'full', 'of', 'water', '.', 'But', 'the', 'townâ€™s', 'mayor', 'had', 'ceremonially', 'drained', 'it', 'the', 'night', 'before', '.', 'As', 'the', 'hour', 'drew', 'near', ',', 'volunteers', 'packed', 'away', 'the', 'potluck', 'and', 'distributed', 'ponchos', 'to', 'the', 'elderly', 'folks', 'who', 'didnâ€™t', 'want', 'to', 'get', 'wet', '.', 'Most', 'politely', 'turned', 'the', 'ponchos', 'away', '.', 'The', 'minutes', 'ticked', 'down', ',', 'and', 'the', 'square', 'grew', 'quiet', ',', 'until', 'only', 'the', 'wind', 'and', 'dust', 'made', 'any', 'sound', '.', 'The', 'town', 'tuned', 'in', 'its', 'collective', 'attention', 'to', 'watch', 'the', 'horizon', '.', 'A', 'deep', 'hum', 'filled', 'the', 'air', ',', 'rising', 'like', 'the', 'swell', 'of', 'an', 'orchestra', '.', 'First', 'came', 'the', 'clouds', ',', 'dark', 'and', 'wild', 'as', 'a', 'dream', '.', 'And', 'then', 'an', 'endless', 'cascade', 'of', 'rain', 'fell', ',', 'sweeping', 'from', 'one', 'side', 'of', 'the', 'square', 'to', 'another', '.', 'Light', 'rain', '.', 'The', 'words', 'passed', 'among', 'the', 'crowd', 'between', 'cries', 'of', 'elation', '.', 'Light', 'rain', '.', 'Cleansing', 'the', 'air', 'of', 'dust', ',', 'turning', 'the', 'paved', 'streets', 'into', 'rivers', '.', 'The', 'ponchos', 'pointless', 'to', 'stop', 'the', 'kiss', 'of', 'nature', '.', 'Children', 'dancing', 'in', 'puddles', ',', 'stomping', 'and', 'splashing', 'and', 'shrieking', 'with', 'joy', '.', 'Light', 'rain', '.', 'The', 'empty', 'reflecting', 'pool', 'filled', 'up', 'and', 'spilled', 'over', '.', 'Humanity', 'for', 'a', 'brief', 'moment', 'placed', 'its', 'mark', 'upon', 'the', 'land', '.']\n",
      "\n",
      "List of tokens_without_sw\n",
      "['ï', '»', '¿Light', 'Rain', 'Pat', 'Petrus', '________________', 'The', 'deserts', 'American', 'Southwest', 'due', 'rain', '.', 'The', 'men', 'controlled', 'weather', 'loved', 'day', ',', 'back-slapping', 'laughing', 'bonuses', 'got', '.', 'Few', 'grasped', 'significance', 'place', 'culture', '.', 'They', 'engineers', 'living', 'hundreds', 'miles', 'away', ',', 'quiet', 'suburbs', 'valued', 'low', 'half-millions', '.', 'They', 'families', 'needing', 'feeding', ',', 'paychecks', 'needing', 'getting', ',', 'corporate', 'ladders', 'needing', 'climbing', '.', 'Their', 'lives', 'boiled', 'computers', ',', 'culture', '.', 'But', 'behest', 'government', ',', 'year', 'early', 'morning', 'hours', 'spring', 'solstice', 'arrived', 'modest', 'office', 'Center', 'Weather', 'Control', 'Seattle', 'turned', 'eyes', 'laser', 'arrays', 'towards', 'skies', 'Arizona', ',', 'New', 'Mexico', ',', 'Nevada', ',', 'Texas', ',', 'Oklahoma', '.', 'Numbers', 'crunched', ',', 'proofs', 'proofed', 're-preoofed', '.', 'Coffee', 'brewed', '.', 'A', 'pictures', 'snapped', '.', 'The', 'office', 'building', 'tuned', 'collective', 'attention', 'towards', 'singular', 'point', ',', 'like', 'orchestra', 'waiting', 'downbeat', '.', 'Outside', 'weather', 'office', ',', 'dew', 'dripped', 'ten-block', 'array', 'lasers', '.', 'Each', 'laser', 'consisted', 'two-story', 'tall', 'piece', 'metal', 'shaped', 'like', 'thin', 'cross', 'mounted', 'rotating', 'gimbal', '.', 'A', 'latticework', 'hanging', 'wires', 'connected', 'one', 'laser', 'another', ',', 'cells', 'one', 'hundred', 'lasers', '.', 'There', 'ten', 'cells', 'particular', 'office', '.', 'On', 'cue', 'office', ',', 'rose', 'life', 'turned', 'one', 'towards', 'distant', 'southern', 'horizon', '.', 'A', 'hum', 'filled', 'air', ',', 'rising', 'like', 'swell', 'orchestra', '.', 'In', 'small', 'town', 'rural', 'Arizona', ',', 'dust', 'swirled', 'around', 'town', 'square', '.', 'Some', 'two', 'hundred', 'people', 'gathered', 'celebration', ',', 'bringing', 'gifts', 'food', 'town', 'potluck', '.', 'They', 'gathered', 'around', 'squareâ€™s', 'central', 'monument', ',', 'two-story', 'tall', 'piece', 'polished', 'stone', 'shaped', 'like', 'thin', 'cross', 'set', 'reflecting', 'pool', '.', 'On', 'normal', 'day', ',', 'pool', 'would', 'full', 'water', '.', 'But', 'townâ€™s', 'mayor', 'ceremonially', 'drained', 'night', '.', 'As', 'hour', 'drew', 'near', ',', 'volunteers', 'packed', 'away', 'potluck', 'distributed', 'ponchos', 'elderly', 'folks', 'didnâ€™t', 'want', 'get', 'wet', '.', 'Most', 'politely', 'turned', 'ponchos', 'away', '.', 'The', 'minutes', 'ticked', ',', 'square', 'grew', 'quiet', ',', 'wind', 'dust', 'made', 'sound', '.', 'The', 'town', 'tuned', 'collective', 'attention', 'watch', 'horizon', '.', 'A', 'deep', 'hum', 'filled', 'air', ',', 'rising', 'like', 'swell', 'orchestra', '.', 'First', 'came', 'clouds', ',', 'dark', 'wild', 'dream', '.', 'And', 'endless', 'cascade', 'rain', 'fell', ',', 'sweeping', 'one', 'side', 'square', 'another', '.', 'Light', 'rain', '.', 'The', 'words', 'passed', 'among', 'crowd', 'cries', 'elation', '.', 'Light', 'rain', '.', 'Cleansing', 'air', 'dust', ',', 'turning', 'paved', 'streets', 'rivers', '.', 'The', 'ponchos', 'pointless', 'stop', 'kiss', 'nature', '.', 'Children', 'dancing', 'puddles', ',', 'stomping', 'splashing', 'shrieking', 'joy', '.', 'Light', 'rain', '.', 'The', 'empty', 'reflecting', 'pool', 'filled', 'spilled', '.', 'Humanity', 'brief', 'moment', 'placed', 'mark', 'upon', 'land', '.']\n",
      "\n",
      "Frequencies\n",
      "[1, 1, 1, 1, 1, 1, 1, 8, 1, 1, 1, 1, 5, 38, 8, 1, 1, 2, 1, 2, 28, 1, 1, 1, 1, 38, 1, 1, 1, 1, 2, 38, 3, 1, 1, 1, 1, 3, 28, 2, 1, 1, 1, 1, 38, 3, 1, 3, 1, 28, 1, 3, 1, 28, 1, 1, 3, 1, 38, 1, 1, 1, 1, 28, 2, 38, 2, 1, 1, 28, 1, 1, 1, 1, 1, 1, 1, 1, 5, 1, 1, 1, 1, 3, 1, 3, 1, 3, 1, 2, 28, 1, 1, 28, 1, 28, 1, 28, 1, 38, 1, 1, 28, 1, 1, 1, 38, 1, 1, 38, 4, 1, 1, 38, 8, 5, 1, 2, 2, 2, 3, 1, 1, 28, 5, 3, 1, 1, 38, 1, 2, 5, 28, 1, 1, 1, 1, 2, 38, 1, 3, 1, 2, 2, 2, 1, 2, 5, 2, 2, 1, 1, 1, 38, 4, 1, 1, 1, 1, 4, 3, 2, 28, 2, 4, 2, 2, 38, 1, 1, 2, 1, 5, 38, 2, 1, 5, 28, 1, 1, 3, 4, 3, 1, 1, 2, 38, 4, 2, 3, 3, 28, 2, 5, 2, 3, 38, 1, 1, 4, 1, 2, 28, 3, 1, 2, 4, 3, 38, 1, 1, 2, 1, 2, 1, 28, 1, 1, 1, 4, 2, 38, 3, 2, 2, 1, 1, 1, 28, 2, 2, 2, 1, 1, 2, 5, 2, 2, 1, 2, 3, 38, 2, 1, 2, 28, 3, 1, 1, 1, 38, 2, 1, 1, 1, 1, 1, 38, 1, 1, 1, 1, 28, 1, 1, 3, 2, 1, 3, 1, 1, 1, 1, 1, 1, 38, 1, 1, 3, 3, 3, 38, 8, 1, 1, 28, 3, 1, 2, 28, 1, 3, 1, 1, 38, 8, 4, 2, 2, 2, 1, 2, 38, 4, 1, 2, 3, 3, 28, 2, 5, 2, 3, 38, 1, 1, 1, 28, 1, 1, 1, 38, 1, 1, 1, 5, 1, 28, 1, 4, 1, 3, 2, 38, 3, 5, 38, 8, 1, 1, 1, 1, 1, 1, 38, 3, 5, 38, 1, 3, 3, 28, 1, 1, 1, 1, 38, 8, 3, 1, 1, 1, 1, 38, 1, 1, 1, 28, 1, 1, 1, 1, 38, 3, 5, 38, 8, 1, 2, 3, 3, 1, 38, 1, 1, 1, 1, 1, 1, 1, 38]\n",
      "\n",
      "Pairs\n",
      "[('ï', 1), ('»', 1), ('¿Light', 1), ('Rain', 1), ('Pat', 1), ('Petrus', 1), ('________________', 1), ('The', 8), ('deserts', 1), ('American', 1), ('Southwest', 1), ('due', 1), ('rain', 5), ('.', 38), ('The', 8), ('men', 1), ('controlled', 1), ('weather', 2), ('loved', 1), ('day', 2), (',', 28), ('back-slapping', 1), ('laughing', 1), ('bonuses', 1), ('got', 1), ('.', 38), ('Few', 1), ('grasped', 1), ('significance', 1), ('place', 1), ('culture', 2), ('.', 38), ('They', 3), ('engineers', 1), ('living', 1), ('hundreds', 1), ('miles', 1), ('away', 3), (',', 28), ('quiet', 2), ('suburbs', 1), ('valued', 1), ('low', 1), ('half-millions', 1), ('.', 38), ('They', 3), ('families', 1), ('needing', 3), ('feeding', 1), (',', 28), ('paychecks', 1), ('needing', 3), ('getting', 1), (',', 28), ('corporate', 1), ('ladders', 1), ('needing', 3), ('climbing', 1), ('.', 38), ('Their', 1), ('lives', 1), ('boiled', 1), ('computers', 1), (',', 28), ('culture', 2), ('.', 38), ('But', 2), ('behest', 1), ('government', 1), (',', 28), ('year', 1), ('early', 1), ('morning', 1), ('hours', 1), ('spring', 1), ('solstice', 1), ('arrived', 1), ('modest', 1), ('office', 5), ('Center', 1), ('Weather', 1), ('Control', 1), ('Seattle', 1), ('turned', 3), ('eyes', 1), ('laser', 3), ('arrays', 1), ('towards', 3), ('skies', 1), ('Arizona', 2), (',', 28), ('New', 1), ('Mexico', 1), (',', 28), ('Nevada', 1), (',', 28), ('Texas', 1), (',', 28), ('Oklahoma', 1), ('.', 38), ('Numbers', 1), ('crunched', 1), (',', 28), ('proofs', 1), ('proofed', 1), ('re-preoofed', 1), ('.', 38), ('Coffee', 1), ('brewed', 1), ('.', 38), ('A', 4), ('pictures', 1), ('snapped', 1), ('.', 38), ('The', 8), ('office', 5), ('building', 1), ('tuned', 2), ('collective', 2), ('attention', 2), ('towards', 3), ('singular', 1), ('point', 1), (',', 28), ('like', 5), ('orchestra', 3), ('waiting', 1), ('downbeat', 1), ('.', 38), ('Outside', 1), ('weather', 2), ('office', 5), (',', 28), ('dew', 1), ('dripped', 1), ('ten-block', 1), ('array', 1), ('lasers', 2), ('.', 38), ('Each', 1), ('laser', 3), ('consisted', 1), ('two-story', 2), ('tall', 2), ('piece', 2), ('metal', 1), ('shaped', 2), ('like', 5), ('thin', 2), ('cross', 2), ('mounted', 1), ('rotating', 1), ('gimbal', 1), ('.', 38), ('A', 4), ('latticework', 1), ('hanging', 1), ('wires', 1), ('connected', 1), ('one', 4), ('laser', 3), ('another', 2), (',', 28), ('cells', 2), ('one', 4), ('hundred', 2), ('lasers', 2), ('.', 38), ('There', 1), ('ten', 1), ('cells', 2), ('particular', 1), ('office', 5), ('.', 38), ('On', 2), ('cue', 1), ('office', 5), (',', 28), ('rose', 1), ('life', 1), ('turned', 3), ('one', 4), ('towards', 3), ('distant', 1), ('southern', 1), ('horizon', 2), ('.', 38), ('A', 4), ('hum', 2), ('filled', 3), ('air', 3), (',', 28), ('rising', 2), ('like', 5), ('swell', 2), ('orchestra', 3), ('.', 38), ('In', 1), ('small', 1), ('town', 4), ('rural', 1), ('Arizona', 2), (',', 28), ('dust', 3), ('swirled', 1), ('around', 2), ('town', 4), ('square', 3), ('.', 38), ('Some', 1), ('two', 1), ('hundred', 2), ('people', 1), ('gathered', 2), ('celebration', 1), (',', 28), ('bringing', 1), ('gifts', 1), ('food', 1), ('town', 4), ('potluck', 2), ('.', 38), ('They', 3), ('gathered', 2), ('around', 2), ('squareâ€™s', 1), ('central', 1), ('monument', 1), (',', 28), ('two-story', 2), ('tall', 2), ('piece', 2), ('polished', 1), ('stone', 1), ('shaped', 2), ('like', 5), ('thin', 2), ('cross', 2), ('set', 1), ('reflecting', 2), ('pool', 3), ('.', 38), ('On', 2), ('normal', 1), ('day', 2), (',', 28), ('pool', 3), ('would', 1), ('full', 1), ('water', 1), ('.', 38), ('But', 2), ('townâ€™s', 1), ('mayor', 1), ('ceremonially', 1), ('drained', 1), ('night', 1), ('.', 38), ('As', 1), ('hour', 1), ('drew', 1), ('near', 1), (',', 28), ('volunteers', 1), ('packed', 1), ('away', 3), ('potluck', 2), ('distributed', 1), ('ponchos', 3), ('elderly', 1), ('folks', 1), ('didnâ€™t', 1), ('want', 1), ('get', 1), ('wet', 1), ('.', 38), ('Most', 1), ('politely', 1), ('turned', 3), ('ponchos', 3), ('away', 3), ('.', 38), ('The', 8), ('minutes', 1), ('ticked', 1), (',', 28), ('square', 3), ('grew', 1), ('quiet', 2), (',', 28), ('wind', 1), ('dust', 3), ('made', 1), ('sound', 1), ('.', 38), ('The', 8), ('town', 4), ('tuned', 2), ('collective', 2), ('attention', 2), ('watch', 1), ('horizon', 2), ('.', 38), ('A', 4), ('deep', 1), ('hum', 2), ('filled', 3), ('air', 3), (',', 28), ('rising', 2), ('like', 5), ('swell', 2), ('orchestra', 3), ('.', 38), ('First', 1), ('came', 1), ('clouds', 1), (',', 28), ('dark', 1), ('wild', 1), ('dream', 1), ('.', 38), ('And', 1), ('endless', 1), ('cascade', 1), ('rain', 5), ('fell', 1), (',', 28), ('sweeping', 1), ('one', 4), ('side', 1), ('square', 3), ('another', 2), ('.', 38), ('Light', 3), ('rain', 5), ('.', 38), ('The', 8), ('words', 1), ('passed', 1), ('among', 1), ('crowd', 1), ('cries', 1), ('elation', 1), ('.', 38), ('Light', 3), ('rain', 5), ('.', 38), ('Cleansing', 1), ('air', 3), ('dust', 3), (',', 28), ('turning', 1), ('paved', 1), ('streets', 1), ('rivers', 1), ('.', 38), ('The', 8), ('ponchos', 3), ('pointless', 1), ('stop', 1), ('kiss', 1), ('nature', 1), ('.', 38), ('Children', 1), ('dancing', 1), ('puddles', 1), (',', 28), ('stomping', 1), ('splashing', 1), ('shrieking', 1), ('joy', 1), ('.', 38), ('Light', 3), ('rain', 5), ('.', 38), ('The', 8), ('empty', 1), ('reflecting', 2), ('pool', 3), ('filled', 3), ('spilled', 1), ('.', 38), ('Humanity', 1), ('brief', 1), ('moment', 1), ('placed', 1), ('mark', 1), ('upon', 1), ('land', 1), ('.', 38)]\n"
     ]
    }
   ],
   "source": [
    "#find the top ten words in the parsed document\n",
    "\n",
    "wordfreq = []\n",
    "for w in tokens_without_sw:\n",
    "    wordfreq.append(tokens_without_sw.count(w))\n",
    "\n",
    "print(\"List of text_tokens: \\n\" + str(text_tokens) +\"\\n\")\n",
    "print(\"List of tokens_without_sw: \\n\" + str(tokens_without_sw) + \"\\n\")\n",
    "print(\"Frequencies\\n\" + str(wordfreq) + \"\\n\")\n",
    "print(\"Pairs\\n\" + str(list(zip(tokens_without_sw, wordfreq))))"
   ]
  },
  {
   "cell_type": "code",
   "execution_count": null,
   "metadata": {},
   "outputs": [],
   "source": [
    "# good, but the above code plots a freuency number for every word. So, for every instance of \"the,\" it returns \"8.\"\n",
    "# We want it in a list format, and we want it to only return one instance of each word."
   ]
  }
 ],
 "metadata": {
  "kernelspec": {
   "display_name": "Python [conda env:PythonData] *",
   "language": "python",
   "name": "conda-env-PythonData-py"
  },
  "language_info": {
   "codemirror_mode": {
    "name": "ipython",
    "version": 3
   },
   "file_extension": ".py",
   "mimetype": "text/x-python",
   "name": "python",
   "nbconvert_exporter": "python",
   "pygments_lexer": "ipython3",
   "version": "3.6.10"
  }
 },
 "nbformat": 4,
 "nbformat_minor": 4
}
